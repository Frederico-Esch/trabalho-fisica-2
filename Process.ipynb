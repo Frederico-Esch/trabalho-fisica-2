{
 "cells": [
  {
   "cell_type": "code",
   "execution_count": 1,
   "id": "93e7497c-40b0-4e47-a912-e6a349a029f2",
   "metadata": {},
   "outputs": [],
   "source": [
    "import pandas as pd\n",
    "import numpy as np\n",
    "import matplotlib.pyplot as plt\n",
    "%matplotlib inline"
   ]
  },
  {
   "cell_type": "code",
   "execution_count": 2,
   "id": "95955e59-02a9-4550-aa27-abce48623fd7",
   "metadata": {},
   "outputs": [
    {
     "data": {
      "text/html": [
       "<div>\n",
       "<style scoped>\n",
       "    .dataframe tbody tr th:only-of-type {\n",
       "        vertical-align: middle;\n",
       "    }\n",
       "\n",
       "    .dataframe tbody tr th {\n",
       "        vertical-align: top;\n",
       "    }\n",
       "\n",
       "    .dataframe thead th {\n",
       "        text-align: right;\n",
       "    }\n",
       "</style>\n",
       "<table border=\"1\" class=\"dataframe\">\n",
       "  <thead>\n",
       "    <tr style=\"text-align: right;\">\n",
       "      <th></th>\n",
       "      <th>Distancia(cm)</th>\n",
       "      <th>TempoExp1(s)</th>\n",
       "      <th>TempoExp2(s)</th>\n",
       "      <th>TempoExp3(s)</th>\n",
       "    </tr>\n",
       "  </thead>\n",
       "  <tbody>\n",
       "    <tr>\n",
       "      <th>0</th>\n",
       "      <td>0</td>\n",
       "      <td>0.00000</td>\n",
       "      <td>0.00000</td>\n",
       "      <td>0.00000</td>\n",
       "    </tr>\n",
       "    <tr>\n",
       "      <th>1</th>\n",
       "      <td>10</td>\n",
       "      <td>0.16800</td>\n",
       "      <td>0.12125</td>\n",
       "      <td>0.15900</td>\n",
       "    </tr>\n",
       "    <tr>\n",
       "      <th>2</th>\n",
       "      <td>20</td>\n",
       "      <td>0.18025</td>\n",
       "      <td>0.17700</td>\n",
       "      <td>0.18550</td>\n",
       "    </tr>\n",
       "    <tr>\n",
       "      <th>3</th>\n",
       "      <td>30</td>\n",
       "      <td>0.22500</td>\n",
       "      <td>0.23000</td>\n",
       "      <td>0.24800</td>\n",
       "    </tr>\n",
       "    <tr>\n",
       "      <th>4</th>\n",
       "      <td>40</td>\n",
       "      <td>0.27450</td>\n",
       "      <td>0.25650</td>\n",
       "      <td>0.29375</td>\n",
       "    </tr>\n",
       "    <tr>\n",
       "      <th>5</th>\n",
       "      <td>50</td>\n",
       "      <td>0.29225</td>\n",
       "      <td>0.29450</td>\n",
       "      <td>0.29650</td>\n",
       "    </tr>\n",
       "    <tr>\n",
       "      <th>6</th>\n",
       "      <td>60</td>\n",
       "      <td>0.30975</td>\n",
       "      <td>0.30975</td>\n",
       "      <td>0.31025</td>\n",
       "    </tr>\n",
       "    <tr>\n",
       "      <th>7</th>\n",
       "      <td>70</td>\n",
       "      <td>0.33650</td>\n",
       "      <td>0.34525</td>\n",
       "      <td>0.35350</td>\n",
       "    </tr>\n",
       "    <tr>\n",
       "      <th>8</th>\n",
       "      <td>80</td>\n",
       "      <td>0.37200</td>\n",
       "      <td>0.38000</td>\n",
       "      <td>0.39000</td>\n",
       "    </tr>\n",
       "    <tr>\n",
       "      <th>9</th>\n",
       "      <td>90</td>\n",
       "      <td>0.42400</td>\n",
       "      <td>0.43425</td>\n",
       "      <td>0.42500</td>\n",
       "    </tr>\n",
       "    <tr>\n",
       "      <th>10</th>\n",
       "      <td>100</td>\n",
       "      <td>0.50000</td>\n",
       "      <td>0.47000</td>\n",
       "      <td>0.49575</td>\n",
       "    </tr>\n",
       "    <tr>\n",
       "      <th>11</th>\n",
       "      <td>110</td>\n",
       "      <td>0.58500</td>\n",
       "      <td>0.48625</td>\n",
       "      <td>0.52750</td>\n",
       "    </tr>\n",
       "    <tr>\n",
       "      <th>12</th>\n",
       "      <td>120</td>\n",
       "      <td>0.66125</td>\n",
       "      <td>0.63025</td>\n",
       "      <td>0.64325</td>\n",
       "    </tr>\n",
       "    <tr>\n",
       "      <th>13</th>\n",
       "      <td>130</td>\n",
       "      <td>0.76375</td>\n",
       "      <td>0.75000</td>\n",
       "      <td>0.77800</td>\n",
       "    </tr>\n",
       "    <tr>\n",
       "      <th>14</th>\n",
       "      <td>140</td>\n",
       "      <td>0.77500</td>\n",
       "      <td>0.78875</td>\n",
       "      <td>0.80375</td>\n",
       "    </tr>\n",
       "    <tr>\n",
       "      <th>15</th>\n",
       "      <td>150</td>\n",
       "      <td>0.78750</td>\n",
       "      <td>0.82500</td>\n",
       "      <td>0.68250</td>\n",
       "    </tr>\n",
       "  </tbody>\n",
       "</table>\n",
       "</div>"
      ],
      "text/plain": [
       "    Distancia(cm)   TempoExp1(s)   TempoExp2(s)   TempoExp3(s)\n",
       "0               0        0.00000        0.00000        0.00000\n",
       "1              10        0.16800        0.12125        0.15900\n",
       "2              20        0.18025        0.17700        0.18550\n",
       "3              30        0.22500        0.23000        0.24800\n",
       "4              40        0.27450        0.25650        0.29375\n",
       "5              50        0.29225        0.29450        0.29650\n",
       "6              60        0.30975        0.30975        0.31025\n",
       "7              70        0.33650        0.34525        0.35350\n",
       "8              80        0.37200        0.38000        0.39000\n",
       "9              90        0.42400        0.43425        0.42500\n",
       "10            100        0.50000        0.47000        0.49575\n",
       "11            110        0.58500        0.48625        0.52750\n",
       "12            120        0.66125        0.63025        0.64325\n",
       "13            130        0.76375        0.75000        0.77800\n",
       "14            140        0.77500        0.78875        0.80375\n",
       "15            150        0.78750        0.82500        0.68250"
      ]
     },
     "execution_count": 2,
     "metadata": {},
     "output_type": "execute_result"
    }
   ],
   "source": [
    "(dataset := pd.read_csv(\"fredsz.csv\"))"
   ]
  },
  {
   "cell_type": "code",
   "execution_count": 3,
   "id": "7e4e62ef-cb96-4f31-bc7d-c880c72c5cbc",
   "metadata": {},
   "outputs": [],
   "source": [
    "std = []\n",
    "for i in range(16):\n",
    "    std.append(np.std([dataset.iloc[i,1], dataset.iloc[i,2], dataset.iloc[i,3]]))\n",
    "dataset['std-erro'] = std"
   ]
  },
  {
   "cell_type": "code",
   "execution_count": 4,
   "id": "4206ef21-bb8b-4255-a40c-0245059b8071",
   "metadata": {},
   "outputs": [
    {
     "data": {
      "text/html": [
       "<div>\n",
       "<style scoped>\n",
       "    .dataframe tbody tr th:only-of-type {\n",
       "        vertical-align: middle;\n",
       "    }\n",
       "\n",
       "    .dataframe tbody tr th {\n",
       "        vertical-align: top;\n",
       "    }\n",
       "\n",
       "    .dataframe thead th {\n",
       "        text-align: right;\n",
       "    }\n",
       "</style>\n",
       "<table border=\"1\" class=\"dataframe\">\n",
       "  <thead>\n",
       "    <tr style=\"text-align: right;\">\n",
       "      <th></th>\n",
       "      <th>Distancia(cm)</th>\n",
       "      <th>TempoExp1(s)</th>\n",
       "      <th>TempoExp2(s)</th>\n",
       "      <th>TempoExp3(s)</th>\n",
       "      <th>std-erro</th>\n",
       "    </tr>\n",
       "  </thead>\n",
       "  <tbody>\n",
       "    <tr>\n",
       "      <th>0</th>\n",
       "      <td>1.5</td>\n",
       "      <td>0.00000</td>\n",
       "      <td>0.00000</td>\n",
       "      <td>0.00000</td>\n",
       "      <td>0.000000</td>\n",
       "    </tr>\n",
       "    <tr>\n",
       "      <th>1</th>\n",
       "      <td>1.4</td>\n",
       "      <td>0.16800</td>\n",
       "      <td>0.12125</td>\n",
       "      <td>0.15900</td>\n",
       "      <td>0.020253</td>\n",
       "    </tr>\n",
       "    <tr>\n",
       "      <th>2</th>\n",
       "      <td>1.3</td>\n",
       "      <td>0.18025</td>\n",
       "      <td>0.17700</td>\n",
       "      <td>0.18550</td>\n",
       "      <td>0.003502</td>\n",
       "    </tr>\n",
       "    <tr>\n",
       "      <th>3</th>\n",
       "      <td>1.2</td>\n",
       "      <td>0.22500</td>\n",
       "      <td>0.23000</td>\n",
       "      <td>0.24800</td>\n",
       "      <td>0.009877</td>\n",
       "    </tr>\n",
       "    <tr>\n",
       "      <th>4</th>\n",
       "      <td>1.1</td>\n",
       "      <td>0.27450</td>\n",
       "      <td>0.25650</td>\n",
       "      <td>0.29375</td>\n",
       "      <td>0.015210</td>\n",
       "    </tr>\n",
       "    <tr>\n",
       "      <th>5</th>\n",
       "      <td>1.0</td>\n",
       "      <td>0.29225</td>\n",
       "      <td>0.29450</td>\n",
       "      <td>0.29650</td>\n",
       "      <td>0.001736</td>\n",
       "    </tr>\n",
       "    <tr>\n",
       "      <th>6</th>\n",
       "      <td>0.9</td>\n",
       "      <td>0.30975</td>\n",
       "      <td>0.30975</td>\n",
       "      <td>0.31025</td>\n",
       "      <td>0.000236</td>\n",
       "    </tr>\n",
       "    <tr>\n",
       "      <th>7</th>\n",
       "      <td>0.8</td>\n",
       "      <td>0.33650</td>\n",
       "      <td>0.34525</td>\n",
       "      <td>0.35350</td>\n",
       "      <td>0.006941</td>\n",
       "    </tr>\n",
       "    <tr>\n",
       "      <th>8</th>\n",
       "      <td>0.7</td>\n",
       "      <td>0.37200</td>\n",
       "      <td>0.38000</td>\n",
       "      <td>0.39000</td>\n",
       "      <td>0.007364</td>\n",
       "    </tr>\n",
       "    <tr>\n",
       "      <th>9</th>\n",
       "      <td>0.6</td>\n",
       "      <td>0.42400</td>\n",
       "      <td>0.43425</td>\n",
       "      <td>0.42500</td>\n",
       "      <td>0.004614</td>\n",
       "    </tr>\n",
       "    <tr>\n",
       "      <th>10</th>\n",
       "      <td>0.5</td>\n",
       "      <td>0.50000</td>\n",
       "      <td>0.47000</td>\n",
       "      <td>0.49575</td>\n",
       "      <td>0.013254</td>\n",
       "    </tr>\n",
       "    <tr>\n",
       "      <th>11</th>\n",
       "      <td>0.4</td>\n",
       "      <td>0.58500</td>\n",
       "      <td>0.48625</td>\n",
       "      <td>0.52750</td>\n",
       "      <td>0.040496</td>\n",
       "    </tr>\n",
       "    <tr>\n",
       "      <th>12</th>\n",
       "      <td>0.3</td>\n",
       "      <td>0.66125</td>\n",
       "      <td>0.63025</td>\n",
       "      <td>0.64325</td>\n",
       "      <td>0.012710</td>\n",
       "    </tr>\n",
       "    <tr>\n",
       "      <th>13</th>\n",
       "      <td>0.2</td>\n",
       "      <td>0.76375</td>\n",
       "      <td>0.75000</td>\n",
       "      <td>0.77800</td>\n",
       "      <td>0.011432</td>\n",
       "    </tr>\n",
       "    <tr>\n",
       "      <th>14</th>\n",
       "      <td>0.1</td>\n",
       "      <td>0.77500</td>\n",
       "      <td>0.78875</td>\n",
       "      <td>0.80375</td>\n",
       "      <td>0.011741</td>\n",
       "    </tr>\n",
       "    <tr>\n",
       "      <th>15</th>\n",
       "      <td>0.0</td>\n",
       "      <td>0.78750</td>\n",
       "      <td>0.82500</td>\n",
       "      <td>0.68250</td>\n",
       "      <td>0.060312</td>\n",
       "    </tr>\n",
       "  </tbody>\n",
       "</table>\n",
       "</div>"
      ],
      "text/plain": [
       "    Distancia(cm)   TempoExp1(s)   TempoExp2(s)   TempoExp3(s)  std-erro\n",
       "0             1.5        0.00000        0.00000        0.00000  0.000000\n",
       "1             1.4        0.16800        0.12125        0.15900  0.020253\n",
       "2             1.3        0.18025        0.17700        0.18550  0.003502\n",
       "3             1.2        0.22500        0.23000        0.24800  0.009877\n",
       "4             1.1        0.27450        0.25650        0.29375  0.015210\n",
       "5             1.0        0.29225        0.29450        0.29650  0.001736\n",
       "6             0.9        0.30975        0.30975        0.31025  0.000236\n",
       "7             0.8        0.33650        0.34525        0.35350  0.006941\n",
       "8             0.7        0.37200        0.38000        0.39000  0.007364\n",
       "9             0.6        0.42400        0.43425        0.42500  0.004614\n",
       "10            0.5        0.50000        0.47000        0.49575  0.013254\n",
       "11            0.4        0.58500        0.48625        0.52750  0.040496\n",
       "12            0.3        0.66125        0.63025        0.64325  0.012710\n",
       "13            0.2        0.76375        0.75000        0.77800  0.011432\n",
       "14            0.1        0.77500        0.78875        0.80375  0.011741\n",
       "15            0.0        0.78750        0.82500        0.68250  0.060312"
      ]
     },
     "execution_count": 4,
     "metadata": {},
     "output_type": "execute_result"
    }
   ],
   "source": [
    "dist = list(dataset['Distancia(cm)']/100)\n",
    "dist.reverse()\n",
    "dataset['Distancia(cm)'] = dist\n",
    "dataset"
   ]
  },
  {
   "cell_type": "code",
   "execution_count": 5,
   "id": "8a730e87-5831-4f75-b483-7c5ba7cce295",
   "metadata": {},
   "outputs": [
    {
     "data": {
      "image/png": "[encoded data removed]",
      "text/plain": [
       "<Figure size 1296x360 with 3 Axes>"
      ]
     },
     "metadata": {
      "needs_background": "light"
     },
     "output_type": "display_data"
    }
   ],
   "source": [
    "fig, ax = plt.subplots(1, 3, figsize=(18, 5))\n",
    "Y = dataset.iloc[0:,0].values\n",
    "\n",
    "for i in range(3):\n",
    "    X = dataset.iloc[0:, i+1].values\n",
    "\n",
    "    ax[i].errorbar(X, Y, c='k', fmt=\".\", xerr=dataset.iloc[0:,4], capsize=4)\n",
    "    ax[i].grid()\n",
    "    ax[i].set_xlabel(\"Tempo (s)\")\n",
    "    ax[i].set_ylabel(\"Distancia (m)\")"
   ]
  },
  {
   "cell_type": "markdown",
   "id": "4e97600a-d442-44bc-b659-4dd753e59948",
   "metadata": {},
   "source": [
    "$$\n",
    "S = S_0 + V_0t + \\frac{at^2}{2} \\\\\n",
    "S = \\frac{at^2}{2}\\\\\n",
    "$$\n",
    "Portanto se fittarmos a linha $S$ em relação a $t^2$ acharemos $\\frac{a}{2}$"
   ]
  },
  {
   "cell_type": "code",
   "execution_count": 6,
   "id": "26dfd72c-5c3a-4d97-a1cf-a9d48dd305b9",
   "metadata": {},
   "outputs": [
    {
     "data": {
      "image/png": "[encoded data removed]",
      "text/plain": [
       "<Figure size 1296x360 with 3 Axes>"
      ]
     },
     "metadata": {
      "needs_background": "light"
     },
     "output_type": "display_data"
    }
   ],
   "source": [
    "from sklearn.linear_model import LinearRegression\n",
    "\n",
    "fig2, ax2 = plt.subplots(1, 3, figsize=(18, 5))\n",
    "acs = []\n",
    "\n",
    "Y = np.array(Y).reshape(-1,1)\n",
    "for i in range(3):\n",
    "    X = np.array(dataset.iloc[0:, i+1]).reshape(-1,1)\n",
    "    X2 = X**2\n",
    "    \n",
    "    model = LinearRegression()\n",
    "    model.fit(X2, Y)\n",
    "    \n",
    "    acs.append((model.coef_*2)[0][0])\n",
    "    \n",
    "    ax2[i].plot(X, model.predict(X2), '--',c=\"r\")\n",
    "    ax2[i].grid()\n",
    "    ax2[i].set_xlabel(\"Tempo (s)\")\n",
    "    ax2[i].set_ylabel(\"Distância (m)\")"
   ]
  },
  {
   "cell_type": "code",
   "execution_count": 7,
   "id": "984b4f48-8560-4a79-8c16-38539bf5414c",
   "metadata": {},
   "outputs": [],
   "source": [
    "acstd = np.std(acs)"
   ]
  },
  {
   "cell_type": "code",
   "execution_count": 8,
   "id": "54a12a02-c407-4931-9fd4-31323d3a3845",
   "metadata": {},
   "outputs": [],
   "source": [
    "ac = {\n",
    "    \"acs\" : acs,\n",
    "    \"acstd\" : acstd,\n",
    "    \"acmean\" : np.mean(acs),\n",
    "    \"acmeanerr\" : np.std(acs)/np.sqrt(len(acs))\n",
    "}"
   ]
  },
  {
   "cell_type": "code",
   "execution_count": 9,
   "id": "14a518c5-add9-4ef9-b900-37e11dd71266",
   "metadata": {},
   "outputs": [
    {
     "data": {
      "text/plain": [
       "{'acs': [-4.049176429954917, -3.8917160340360786, -4.182364808715349],\n",
       " 'acstd': 0.11879470187508395,\n",
       " 'acmean': -4.041085757568781,\n",
       " 'acmeanerr': 0.06858615310588106}"
      ]
     },
     "execution_count": 9,
     "metadata": {},
     "output_type": "execute_result"
    }
   ],
   "source": [
    "ac"
   ]
  },
  {
   "cell_type": "markdown",
   "id": "c18023be-3a11-41c6-9d2c-d1ee7f8a0ea4",
   "metadata": {},
   "source": [
    "with open(\"INFO.txt\", 'w') as file:\n",
    "    for item in ac.items():\n",
    "        file.write(str(item[0]) + \" \" + str(item[1]) + \"\\n\")"
   ]
  },
  {
   "cell_type": "markdown",
   "id": "254a587a-17fd-4381-b402-a438f42416d0",
   "metadata": {},
   "source": [
    "from matplotlib.backends import backend_pdf\n",
    "with backend_pdf.PdfPages(\"graphs.pdf\") as pdf:\n",
    "    pdf.savefig(fig)\n",
    "    pdf.savefig(fig2)"
   ]
  },
  {
   "cell_type": "markdown",
   "id": "1ffd2263-42a7-42d1-887b-12448494e8df",
   "metadata": {},
   "source": [
    "dataset.to_csv(\"EDITED.csv\", index=0)"
   ]
  },
  {
   "cell_type": "code",
   "execution_count": 11,
   "id": "13a58116-04a4-42b4-9610-d00837498039",
   "metadata": {},
   "outputs": [
    {
     "name": "stdout",
     "output_type": "stream",
     "text": [
      "-2.0245882149774586 -> [1.20970915]\n",
      "-1.9458580170180393 -> [1.17801269]\n",
      "-2.0911824043576743 -> [1.20800006]\n"
     ]
    },
    {
     "data": {
      "image/png": "[encoded data removed]",
      "text/plain": [
       "<Figure size 1296x360 with 3 Axes>"
      ]
     },
     "metadata": {
      "needs_background": "light"
     },
     "output_type": "display_data"
    }
   ],
   "source": [
    "fig3, ax3 = plt.subplots(1, 3, figsize=(18, 5))\n",
    "Y = np.array(Y).reshape(-1,1)\n",
    "for i in range(3):\n",
    "    X = np.array(dataset.iloc[0:, i+1]).reshape(-1,1)\n",
    "    \n",
    "    X2 = X**2\n",
    "    \n",
    "    model = LinearRegression()\n",
    "    model.fit(X2, Y)\n",
    "    print(f\"{model.coef_[0][0]} -> {model.intercept_}\")\n",
    "    \n",
    "    ax3[i].errorbar(X, Y, c='k', fmt=\".\", xerr=dataset.iloc[0:,4], capsize=4)\n",
    "    ax3[i].plot(X, model.predict(X2), '--',c=\"r\")\n",
    "    ax3[i].grid()\n",
    "    ax3[i].set_xlabel(\"Tempo (s)\")\n",
    "    ax3[i].set_ylabel(\"Distancia (m)\")"
   ]
  },
  {
   "cell_type": "markdown",
   "id": "1280e3b9-b843-44f2-b408-6ef6564e90ef",
   "metadata": {},
   "source": [
    "fig3.savefig(\"Comb.pdf\")"
   ]
  }
 ],
 "metadata": {
  "kernelspec": {
   "display_name": "Python 3 (ipykernel)",
   "language": "python",
   "name": "python3"
  },
  "language_info": {
   "codemirror_mode": {
    "name": "ipython",
    "version": 3
   },
   "file_extension": ".py",
   "mimetype": "text/x-python",
   "name": "python",
   "nbconvert_exporter": "python",
   "pygments_lexer": "ipython3",
   "version": "3.9.7"
  }
 },
 "nbformat": 4,
 "nbformat_minor": 5
}
