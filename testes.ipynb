{
 "cells": [
  {
   "cell_type": "code",
   "execution_count": 1,
   "id": "8e412889-8db0-4440-8146-777dd27a893c",
   "metadata": {},
   "outputs": [],
   "source": [
    "import pandas as pd\n",
    "import numpy as np"
   ]
  },
  {
   "cell_type": "code",
   "execution_count": 2,
   "id": "a19d92f5-56b1-4e0d-b384-c96b22657217",
   "metadata": {},
   "outputs": [],
   "source": [
    "dataset = pd.read_csv(\"EDITED.csv\")"
   ]
  },
  {
   "cell_type": "code",
   "execution_count": 3,
   "id": "e33db99f-1e01-41bd-87cd-7529364333e2",
   "metadata": {},
   "outputs": [
    {
     "data": {
      "text/html": [
       "<div>\n",
       "<style scoped>\n",
       "    .dataframe tbody tr th:only-of-type {\n",
       "        vertical-align: middle;\n",
       "    }\n",
       "\n",
       "    .dataframe tbody tr th {\n",
       "        vertical-align: top;\n",
       "    }\n",
       "\n",
       "    .dataframe thead th {\n",
       "        text-align: right;\n",
       "    }\n",
       "</style>\n",
       "<table border=\"1\" class=\"dataframe\">\n",
       "  <thead>\n",
       "    <tr style=\"text-align: right;\">\n",
       "      <th></th>\n",
       "      <th>Distancia(cm)</th>\n",
       "      <th>TempoExp1(s)</th>\n",
       "      <th>TempoExp2(s)</th>\n",
       "      <th>TempoExp3(s)</th>\n",
       "      <th>std-erro</th>\n",
       "    </tr>\n",
       "  </thead>\n",
       "  <tbody>\n",
       "    <tr>\n",
       "      <th>0</th>\n",
       "      <td>1.5</td>\n",
       "      <td>0.00000</td>\n",
       "      <td>0.00000</td>\n",
       "      <td>0.00000</td>\n",
       "      <td>0.000000</td>\n",
       "    </tr>\n",
       "    <tr>\n",
       "      <th>1</th>\n",
       "      <td>1.4</td>\n",
       "      <td>0.16800</td>\n",
       "      <td>0.12125</td>\n",
       "      <td>0.15900</td>\n",
       "      <td>0.020253</td>\n",
       "    </tr>\n",
       "    <tr>\n",
       "      <th>2</th>\n",
       "      <td>1.3</td>\n",
       "      <td>0.18025</td>\n",
       "      <td>0.17700</td>\n",
       "      <td>0.18550</td>\n",
       "      <td>0.003502</td>\n",
       "    </tr>\n",
       "    <tr>\n",
       "      <th>3</th>\n",
       "      <td>1.2</td>\n",
       "      <td>0.22500</td>\n",
       "      <td>0.23000</td>\n",
       "      <td>0.24800</td>\n",
       "      <td>0.009877</td>\n",
       "    </tr>\n",
       "    <tr>\n",
       "      <th>4</th>\n",
       "      <td>1.1</td>\n",
       "      <td>0.27450</td>\n",
       "      <td>0.25650</td>\n",
       "      <td>0.29375</td>\n",
       "      <td>0.015210</td>\n",
       "    </tr>\n",
       "    <tr>\n",
       "      <th>5</th>\n",
       "      <td>1.0</td>\n",
       "      <td>0.29225</td>\n",
       "      <td>0.29450</td>\n",
       "      <td>0.29650</td>\n",
       "      <td>0.001736</td>\n",
       "    </tr>\n",
       "    <tr>\n",
       "      <th>6</th>\n",
       "      <td>0.9</td>\n",
       "      <td>0.30975</td>\n",
       "      <td>0.30975</td>\n",
       "      <td>0.31025</td>\n",
       "      <td>0.000236</td>\n",
       "    </tr>\n",
       "    <tr>\n",
       "      <th>7</th>\n",
       "      <td>0.8</td>\n",
       "      <td>0.33650</td>\n",
       "      <td>0.34525</td>\n",
       "      <td>0.35350</td>\n",
       "      <td>0.006941</td>\n",
       "    </tr>\n",
       "    <tr>\n",
       "      <th>8</th>\n",
       "      <td>0.7</td>\n",
       "      <td>0.37200</td>\n",
       "      <td>0.38000</td>\n",
       "      <td>0.39000</td>\n",
       "      <td>0.007364</td>\n",
       "    </tr>\n",
       "    <tr>\n",
       "      <th>9</th>\n",
       "      <td>0.6</td>\n",
       "      <td>0.42400</td>\n",
       "      <td>0.43425</td>\n",
       "      <td>0.42500</td>\n",
       "      <td>0.004614</td>\n",
       "    </tr>\n",
       "    <tr>\n",
       "      <th>10</th>\n",
       "      <td>0.5</td>\n",
       "      <td>0.50000</td>\n",
       "      <td>0.47000</td>\n",
       "      <td>0.49575</td>\n",
       "      <td>0.013254</td>\n",
       "    </tr>\n",
       "    <tr>\n",
       "      <th>11</th>\n",
       "      <td>0.4</td>\n",
       "      <td>0.58500</td>\n",
       "      <td>0.48625</td>\n",
       "      <td>0.52750</td>\n",
       "      <td>0.040496</td>\n",
       "    </tr>\n",
       "    <tr>\n",
       "      <th>12</th>\n",
       "      <td>0.3</td>\n",
       "      <td>0.66125</td>\n",
       "      <td>0.63025</td>\n",
       "      <td>0.64325</td>\n",
       "      <td>0.012710</td>\n",
       "    </tr>\n",
       "    <tr>\n",
       "      <th>13</th>\n",
       "      <td>0.2</td>\n",
       "      <td>0.76375</td>\n",
       "      <td>0.75000</td>\n",
       "      <td>0.77800</td>\n",
       "      <td>0.011432</td>\n",
       "    </tr>\n",
       "    <tr>\n",
       "      <th>14</th>\n",
       "      <td>0.1</td>\n",
       "      <td>0.77500</td>\n",
       "      <td>0.78875</td>\n",
       "      <td>0.80375</td>\n",
       "      <td>0.011741</td>\n",
       "    </tr>\n",
       "    <tr>\n",
       "      <th>15</th>\n",
       "      <td>0.0</td>\n",
       "      <td>0.78750</td>\n",
       "      <td>0.82500</td>\n",
       "      <td>0.68250</td>\n",
       "      <td>0.060312</td>\n",
       "    </tr>\n",
       "  </tbody>\n",
       "</table>\n",
       "</div>"
      ],
      "text/plain": [
       "    Distancia(cm)   TempoExp1(s)   TempoExp2(s)   TempoExp3(s)  std-erro\n",
       "0             1.5        0.00000        0.00000        0.00000  0.000000\n",
       "1             1.4        0.16800        0.12125        0.15900  0.020253\n",
       "2             1.3        0.18025        0.17700        0.18550  0.003502\n",
       "3             1.2        0.22500        0.23000        0.24800  0.009877\n",
       "4             1.1        0.27450        0.25650        0.29375  0.015210\n",
       "5             1.0        0.29225        0.29450        0.29650  0.001736\n",
       "6             0.9        0.30975        0.30975        0.31025  0.000236\n",
       "7             0.8        0.33650        0.34525        0.35350  0.006941\n",
       "8             0.7        0.37200        0.38000        0.39000  0.007364\n",
       "9             0.6        0.42400        0.43425        0.42500  0.004614\n",
       "10            0.5        0.50000        0.47000        0.49575  0.013254\n",
       "11            0.4        0.58500        0.48625        0.52750  0.040496\n",
       "12            0.3        0.66125        0.63025        0.64325  0.012710\n",
       "13            0.2        0.76375        0.75000        0.77800  0.011432\n",
       "14            0.1        0.77500        0.78875        0.80375  0.011741\n",
       "15            0.0        0.78750        0.82500        0.68250  0.060312"
      ]
     },
     "execution_count": 3,
     "metadata": {},
     "output_type": "execute_result"
    }
   ],
   "source": [
    "dataset"
   ]
  },
  {
   "cell_type": "code",
   "execution_count": 19,
   "id": "450a0ba2-cb36-4139-b287-cbad1a40d416",
   "metadata": {},
   "outputs": [
    {
     "data": {
      "text/plain": [
       "array([1.5, 1.4, 1.3, 1.2, 1.1, 1. , 0.9, 0.8, 0.7, 0.6, 0.5, 0.4, 0.3,\n",
       "       0.2, 0.1, 0. ])"
      ]
     },
     "execution_count": 19,
     "metadata": {},
     "output_type": "execute_result"
    }
   ],
   "source": [
    "(Y := dataset.iloc[0:, 0].values.reshape(1,-1)[0])"
   ]
  },
  {
   "cell_type": "code",
   "execution_count": 15,
   "id": "782dc869-b311-4509-87b6-e66109284e06",
   "metadata": {},
   "outputs": [
    {
     "data": {
      "text/plain": [
       "array([0.     , 0.168  , 0.18025, 0.225  , 0.2745 , 0.29225, 0.30975,\n",
       "       0.3365 , 0.372  , 0.424  , 0.5    , 0.585  , 0.66125, 0.76375,\n",
       "       0.775  , 0.7875 ])"
      ]
     },
     "execution_count": 15,
     "metadata": {},
     "output_type": "execute_result"
    }
   ],
   "source": [
    "(X := dataset.iloc[0:, 1].values.reshape(1,-1)[0])"
   ]
  },
  {
   "cell_type": "code",
   "execution_count": 6,
   "id": "81dd3bc0-4e49-4bac-ada6-8bc14d8ac913",
   "metadata": {},
   "outputs": [
    {
     "data": {
      "text/plain": [
       "array([-1.94409375,  1.55859112])"
      ]
     },
     "execution_count": 6,
     "metadata": {},
     "output_type": "execute_result"
    }
   ],
   "source": [
    "ac = np.polyfit(X, Y, 1)\n",
    "ac"
   ]
  },
  {
   "cell_type": "code",
   "execution_count": 7,
   "id": "d02e9a78-1a85-4439-8d77-c4d8ea89d620",
   "metadata": {},
   "outputs": [],
   "source": [
    "import matplotlib.pyplot as plt"
   ]
  },
  {
   "cell_type": "code",
   "execution_count": 54,
   "id": "324bcc9c-0795-48cd-b0b1-31bb185a3361",
   "metadata": {},
   "outputs": [],
   "source": [
    "c = np.polyfit(X, Y-.75, 2)\n",
    "poly = np.poly1d(c)"
   ]
  },
  {
   "cell_type": "code",
   "execution_count": 55,
   "id": "4a66afb3-c203-42f9-afbb-1fb873735da8",
   "metadata": {},
   "outputs": [
    {
     "data": {
      "text/plain": [
       "[<matplotlib.lines.Line2D at 0x15cc3d99520>]"
      ]
     },
     "execution_count": 55,
     "metadata": {},
     "output_type": "execute_result"
    },
    {
     "data": {
      "image/png": "[encoded data removed]",
      "text/plain": [
       "<Figure size 432x288 with 1 Axes>"
      ]
     },
     "metadata": {
      "needs_background": "light"
     },
     "output_type": "display_data"
    }
   ],
   "source": [
    "plt.plot(X,Y)\n",
    "plt.plot(X,poly(X)+.75)"
   ]
  }
 ],
 "metadata": {
  "kernelspec": {
   "display_name": "Python 3 (ipykernel)",
   "language": "python",
   "name": "python3"
  },
  "language_info": {
   "codemirror_mode": {
    "name": "ipython",
    "version": 3
   },
   "file_extension": ".py",
   "mimetype": "text/x-python",
   "name": "python",
   "nbconvert_exporter": "python",
   "pygments_lexer": "ipython3",
   "version": "3.9.7"
  }
 },
 "nbformat": 4,
 "nbformat_minor": 5
}
