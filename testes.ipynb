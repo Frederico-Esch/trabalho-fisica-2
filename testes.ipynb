{
 "cells": [
  {
   "cell_type": "code",
   "execution_count": 1,
   "id": "8e412889-8db0-4440-8146-777dd27a893c",
   "metadata": {},
   "outputs": [],
   "source": [
    "import pandas as pd\n",
    "import numpy as np"
   ]
  },
  {
   "cell_type": "code",
   "execution_count": 4,
   "id": "a19d92f5-56b1-4e0d-b384-c96b22657217",
   "metadata": {},
   "outputs": [],
   "source": [
    "dataset = pd.read_csv(\"EDITED.csv\")"
   ]
  },
  {
   "cell_type": "code",
   "execution_count": 5,
   "id": "e33db99f-1e01-41bd-87cd-7529364333e2",
   "metadata": {},
   "outputs": [
    {
     "data": {
      "text/html": [
       "<div>\n",
       "<style scoped>\n",
       "    .dataframe tbody tr th:only-of-type {\n",
       "        vertical-align: middle;\n",
       "    }\n",
       "\n",
       "    .dataframe tbody tr th {\n",
       "        vertical-align: top;\n",
       "    }\n",
       "\n",
       "    .dataframe thead th {\n",
       "        text-align: right;\n",
       "    }\n",
       "</style>\n",
       "<table border=\"1\" class=\"dataframe\">\n",
       "  <thead>\n",
       "    <tr style=\"text-align: right;\">\n",
       "      <th></th>\n",
       "      <th>Distancia(cm)</th>\n",
       "      <th>TempoExp1(s)</th>\n",
       "      <th>TempoExp2(s)</th>\n",
       "      <th>TempoExp3(s)</th>\n",
       "      <th>std-erro</th>\n",
       "    </tr>\n",
       "  </thead>\n",
       "  <tbody>\n",
       "    <tr>\n",
       "      <th>0</th>\n",
       "      <td>1.5</td>\n",
       "      <td>0.16800</td>\n",
       "      <td>0.12125</td>\n",
       "      <td>0.15900</td>\n",
       "      <td>0.020253</td>\n",
       "    </tr>\n",
       "    <tr>\n",
       "      <th>1</th>\n",
       "      <td>1.4</td>\n",
       "      <td>0.18025</td>\n",
       "      <td>0.17700</td>\n",
       "      <td>0.18550</td>\n",
       "      <td>0.003502</td>\n",
       "    </tr>\n",
       "    <tr>\n",
       "      <th>2</th>\n",
       "      <td>1.3</td>\n",
       "      <td>0.22500</td>\n",
       "      <td>0.23000</td>\n",
       "      <td>0.24800</td>\n",
       "      <td>0.009877</td>\n",
       "    </tr>\n",
       "    <tr>\n",
       "      <th>3</th>\n",
       "      <td>1.2</td>\n",
       "      <td>0.27450</td>\n",
       "      <td>0.25650</td>\n",
       "      <td>0.29375</td>\n",
       "      <td>0.015210</td>\n",
       "    </tr>\n",
       "    <tr>\n",
       "      <th>4</th>\n",
       "      <td>1.1</td>\n",
       "      <td>0.29225</td>\n",
       "      <td>0.29450</td>\n",
       "      <td>0.29650</td>\n",
       "      <td>0.001736</td>\n",
       "    </tr>\n",
       "    <tr>\n",
       "      <th>5</th>\n",
       "      <td>1.0</td>\n",
       "      <td>0.30975</td>\n",
       "      <td>0.30975</td>\n",
       "      <td>0.31025</td>\n",
       "      <td>0.000236</td>\n",
       "    </tr>\n",
       "    <tr>\n",
       "      <th>6</th>\n",
       "      <td>0.9</td>\n",
       "      <td>0.33650</td>\n",
       "      <td>0.34525</td>\n",
       "      <td>0.35350</td>\n",
       "      <td>0.006941</td>\n",
       "    </tr>\n",
       "    <tr>\n",
       "      <th>7</th>\n",
       "      <td>0.8</td>\n",
       "      <td>0.37200</td>\n",
       "      <td>0.38000</td>\n",
       "      <td>0.39000</td>\n",
       "      <td>0.007364</td>\n",
       "    </tr>\n",
       "    <tr>\n",
       "      <th>8</th>\n",
       "      <td>0.7</td>\n",
       "      <td>0.42400</td>\n",
       "      <td>0.43425</td>\n",
       "      <td>0.42500</td>\n",
       "      <td>0.004614</td>\n",
       "    </tr>\n",
       "    <tr>\n",
       "      <th>9</th>\n",
       "      <td>0.6</td>\n",
       "      <td>0.50000</td>\n",
       "      <td>0.47000</td>\n",
       "      <td>0.49575</td>\n",
       "      <td>0.013254</td>\n",
       "    </tr>\n",
       "    <tr>\n",
       "      <th>10</th>\n",
       "      <td>0.5</td>\n",
       "      <td>0.58500</td>\n",
       "      <td>0.48625</td>\n",
       "      <td>0.52750</td>\n",
       "      <td>0.040496</td>\n",
       "    </tr>\n",
       "    <tr>\n",
       "      <th>11</th>\n",
       "      <td>0.4</td>\n",
       "      <td>0.66125</td>\n",
       "      <td>0.63025</td>\n",
       "      <td>0.64325</td>\n",
       "      <td>0.012710</td>\n",
       "    </tr>\n",
       "    <tr>\n",
       "      <th>12</th>\n",
       "      <td>0.3</td>\n",
       "      <td>0.76375</td>\n",
       "      <td>0.75000</td>\n",
       "      <td>0.77800</td>\n",
       "      <td>0.011432</td>\n",
       "    </tr>\n",
       "    <tr>\n",
       "      <th>13</th>\n",
       "      <td>0.2</td>\n",
       "      <td>0.77500</td>\n",
       "      <td>0.78875</td>\n",
       "      <td>0.80375</td>\n",
       "      <td>0.011741</td>\n",
       "    </tr>\n",
       "    <tr>\n",
       "      <th>14</th>\n",
       "      <td>0.1</td>\n",
       "      <td>0.78750</td>\n",
       "      <td>0.82500</td>\n",
       "      <td>0.68250</td>\n",
       "      <td>0.060312</td>\n",
       "    </tr>\n",
       "  </tbody>\n",
       "</table>\n",
       "</div>"
      ],
      "text/plain": [
       "    Distancia(cm)   TempoExp1(s)   TempoExp2(s)   TempoExp3(s)  std-erro\n",
       "0             1.5        0.16800        0.12125        0.15900  0.020253\n",
       "1             1.4        0.18025        0.17700        0.18550  0.003502\n",
       "2             1.3        0.22500        0.23000        0.24800  0.009877\n",
       "3             1.2        0.27450        0.25650        0.29375  0.015210\n",
       "4             1.1        0.29225        0.29450        0.29650  0.001736\n",
       "5             1.0        0.30975        0.30975        0.31025  0.000236\n",
       "6             0.9        0.33650        0.34525        0.35350  0.006941\n",
       "7             0.8        0.37200        0.38000        0.39000  0.007364\n",
       "8             0.7        0.42400        0.43425        0.42500  0.004614\n",
       "9             0.6        0.50000        0.47000        0.49575  0.013254\n",
       "10            0.5        0.58500        0.48625        0.52750  0.040496\n",
       "11            0.4        0.66125        0.63025        0.64325  0.012710\n",
       "12            0.3        0.76375        0.75000        0.77800  0.011432\n",
       "13            0.2        0.77500        0.78875        0.80375  0.011741\n",
       "14            0.1        0.78750        0.82500        0.68250  0.060312"
      ]
     },
     "execution_count": 5,
     "metadata": {},
     "output_type": "execute_result"
    }
   ],
   "source": [
    "dataset"
   ]
  },
  {
   "cell_type": "code",
   "execution_count": 9,
   "id": "450a0ba2-cb36-4139-b287-cbad1a40d416",
   "metadata": {},
   "outputs": [
    {
     "data": {
      "text/plain": [
       "0     1.5\n",
       "1     1.4\n",
       "2     1.3\n",
       "3     1.2\n",
       "4     1.1\n",
       "5     1.0\n",
       "6     0.9\n",
       "7     0.8\n",
       "8     0.7\n",
       "9     0.6\n",
       "10    0.5\n",
       "11    0.4\n",
       "12    0.3\n",
       "13    0.2\n",
       "14    0.1\n",
       "Name: Distancia(cm), dtype: float64"
      ]
     },
     "execution_count": 9,
     "metadata": {},
     "output_type": "execute_result"
    }
   ],
   "source": [
    "(Y := dataset.iloc[0:, 0])"
   ]
  },
  {
   "cell_type": "code",
   "execution_count": 12,
   "id": "782dc869-b311-4509-87b6-e66109284e06",
   "metadata": {},
   "outputs": [
    {
     "data": {
      "text/plain": [
       "0     0.028224\n",
       "1     0.032490\n",
       "2     0.050625\n",
       "3     0.075350\n",
       "4     0.085410\n",
       "5     0.095945\n",
       "6     0.113232\n",
       "7     0.138384\n",
       "8     0.179776\n",
       "9     0.250000\n",
       "10    0.342225\n",
       "11    0.437252\n",
       "12    0.583314\n",
       "13    0.600625\n",
       "14    0.620156\n",
       "Name:  TempoExp1(s), dtype: float64"
      ]
     },
     "execution_count": 12,
     "metadata": {},
     "output_type": "execute_result"
    }
   ],
   "source": [
    "X = dataset.iloc[0:, 1]**2\n",
    "X"
   ]
  },
  {
   "cell_type": "code",
   "execution_count": 15,
   "id": "81dd3bc0-4e49-4bac-ada6-8bc14d8ac913",
   "metadata": {},
   "outputs": [
    {
     "data": {
      "text/plain": [
       "-3.8384740767702175"
      ]
     },
     "execution_count": 15,
     "metadata": {},
     "output_type": "execute_result"
    }
   ],
   "source": [
    "ac = np.polyfit(X, Y, 1)\n",
    "ac[0]*2"
   ]
  }
 ],
 "metadata": {
  "kernelspec": {
   "display_name": "Python 3 (ipykernel)",
   "language": "python",
   "name": "python3"
  },
  "language_info": {
   "codemirror_mode": {
    "name": "ipython",
    "version": 3
   },
   "file_extension": ".py",
   "mimetype": "text/x-python",
   "name": "python",
   "nbconvert_exporter": "python",
   "pygments_lexer": "ipython3",
   "version": "3.9.7"
  }
 },
 "nbformat": 4,
 "nbformat_minor": 5
}
